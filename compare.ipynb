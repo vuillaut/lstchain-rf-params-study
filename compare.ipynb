{
 "cells": [
  {
   "cell_type": "code",
   "execution_count": null,
   "id": "8eb24e4f-a331-4a6d-8cb6-052b0c8826fc",
   "metadata": {},
   "outputs": [],
   "source": [
    "import os\n",
    "from glob import glob\n",
    "import lstmcpipe\n",
    "print(\"lstmcpipe\", lstmcpipe.__version__)\n",
    "import lstchain\n",
    "print(\"lstchain\",  lstchain.__version__)"
   ]
  },
  {
   "cell_type": "code",
   "execution_count": null,
   "id": "fc62867d-d25e-4a1c-b4a6-44efa43018c0",
   "metadata": {},
   "outputs": [],
   "source": [
    "from lstmcpipe.scripts.script_compare_irfs import plot_comparison"
   ]
  },
  {
   "cell_type": "code",
   "execution_count": null,
   "id": "13cc733f-2652-4acd-946c-4c34d587a128",
   "metadata": {},
   "outputs": [],
   "source": [
    "# Standard config production:\n",
    "std_irf_file = '/fefs/aswg/data/mc/IRF/20200629_prod5_trans_80/zenith_20deg/south_pointing/20210923_v0.7.5_prod5_trans_80_dynamic_cleaning/off0.4deg/20210923_v075_prod5_trans_80_dynamic_cleaning_gamma_off04deg_sensitivity.fits.gz'\n"
   ]
  },
  {
   "cell_type": "code",
   "execution_count": null,
   "id": "bbf8461e-61da-44fc-b00d-0535dd8fad31",
   "metadata": {},
   "outputs": [],
   "source": [
    "# Configs are given as `config_max-depth_min-samples-split`\n",
    "\n",
    "fits_list = glob('results/config_*/*.fits.gz')"
   ]
  },
  {
   "cell_type": "code",
   "execution_count": null,
   "id": "7eeaf7a1-0ba2-4c32-8de0-1886135f88dc",
   "metadata": {},
   "outputs": [],
   "source": [
    "import logging\n",
    "import matplotlib.pyplot as plt\n",
    "import ctaplot\n",
    "import astropy.units as u\n",
    "# from lstmcpipe.plots.plot_irfs import plot_summary_from_file\n",
    "from lstmcpipe.plots.plot_irfs import (read_sensitivity_table, \n",
    "                                       plot_sensitivity_from_table, \n",
    "                                       plot_effective_area_from_file, \n",
    "                                       plot_angular_resolution_from_file, \n",
    "                                       plot_energy_resolution_from_file,\n",
    "                                      )\n",
    "\n",
    "def plot_summary_from_file(filename, axes=None, **kwargs):\n",
    "\n",
    "    if axes is None:\n",
    "        fig, axes = plt.subplots(2, 2, figsize=(15, 15))\n",
    "\n",
    "    sens_table = read_sensitivity_table(filename)\n",
    "    plot_sensitivity_from_table(sens_table, ax=axes.ravel()[0], **kwargs)\n",
    "    \n",
    "    plot_effective_area_from_file(filename, ax=axes.ravel()[1], **kwargs)\n",
    "\n",
    "    plot_angular_resolution_from_file(filename, ax=axes.ravel()[2], **kwargs)\n",
    "\n",
    "    plot_energy_resolution_from_file(filename, ax=axes.ravel()[3], **kwargs)\n",
    "\n",
    "    axes.ravel()[0].get_figure().tight_layout()\n",
    "\n",
    "    return axes\n",
    "\n",
    "\n",
    "def plot_comparison(filelist, baseline_index=0, outfile=None, cta_north=False, **plot_kwargs):\n",
    "    \"\"\"\n",
    "    Create a 2x2 plot comparing different sensitivity curves\n",
    "    Parameters\n",
    "    ----------\n",
    "    filelist: list\n",
    "        File list with sensitivity curves to be compared.\n",
    "    outfile: str or Path or None\n",
    "        path to the output file to be saved.\n",
    "        if None, the figure is not saved\n",
    "    cta_north: Bool\n",
    "        Flag to superpose/add (True) or not (False - Default) the CTA North.\n",
    "        Imported from ctaplot\n",
    "    \"\"\"\n",
    "    # logging.basicConfig(level=logging.INFO)\n",
    "    # log = logging.getLogger(\"lstchain MC DL2 to IRF - sensitivity curves\")\n",
    "\n",
    "    # log.info(\"Starting lstmcpipe compare irfs script\")\n",
    "\n",
    "    fig, axes = plt.subplots(3, 2, figsize=(15, 15))\n",
    "\n",
    "    for file in filelist:\n",
    "        # log.info(f\"Plotting IRFs from file {file}\")\n",
    "        label = os.path.basename(file)\n",
    "        plot_summary_from_file(file, axes=axes, label=label, **plot_kwargs)\n",
    "\n",
    "    if cta_north:\n",
    "        ctaplot.plot_sensitivity_cta_performance('north', ax=axes.ravel()[0])\n",
    "        ctaplot.plot_angular_resolution_cta_performance('north', ax=axes.ravel()[2])\n",
    "        ctaplot.plot_energy_resolution_cta_performance('north', ax=axes.ravel()[3])\n",
    "        ctaplot.plot_effective_area_cta_performance('north', ax=axes.ravel()[1])\n",
    "\n",
    "    \n",
    "    sens_table_baseline = read_sensitivity_table(filelist[baseline_index])\n",
    "    e = sens_table_baseline[\"reco_energy_center\"]\n",
    "    w = sens_table_baseline[\"reco_energy_high\"] - sens_table_baseline[\"reco_energy_low\"]\n",
    "    s_baseline = e ** 2 * sens_table_baseline[\"flux_sensitivity\"]\n",
    "    ax = axes.ravel()[4]\n",
    "    for ii, file in enumerate(filelist):\n",
    "        sens_table = read_sensitivity_table(file)\n",
    "        s = e ** 2 * sens_table[\"flux_sensitivity\"]\n",
    "        ax.errorbar(\n",
    "            e.to_value(u.TeV),\n",
    "            s/s_baseline,\n",
    "            xerr=w.to_value(u.TeV) / 2,\n",
    "            **plot_kwargs,\n",
    "        )\n",
    "    ax.set_title('Sensitivity ratio (lower is better)')\n",
    "    ax.set_xscale('log')\n",
    "    ax.grid(True, which='both')\n",
    "        \n",
    "    for ax in axes.ravel()[[0, 1, 2]]:\n",
    "        leg = ax.get_legend()\n",
    "        if leg:\n",
    "            leg.remove()\n",
    "        \n",
    "    fig.tight_layout()\n",
    "    axes.ravel()[3].legend(loc='lower center', bbox_to_anchor=(0.5, -0.5))\n",
    "    axes.ravel()[5].set_visible(False)\n",
    "    # axes = axes[[0,2,1], :]\n",
    "        \n",
    "    \n",
    "    if outfile is not None:\n",
    "        fig.savefig(outfile, dpi=200, bbox_inches='tight')\n",
    "    else:\n",
    "        fig.show()\n",
    "\n",
    "    return axes"
   ]
  },
  {
   "cell_type": "code",
   "execution_count": null,
   "id": "709a0c5d-2ee1-4f9e-9201-88a4f18bd616",
   "metadata": {},
   "outputs": [],
   "source": [
    "# As a function of min_samples_split\n",
    "# max_depth=10\n",
    "fits_list = glob('results/config_10_*/*.fits.gz')\n",
    "fits_list.append(std_irf_file)\n",
    "axes=plot_comparison(filelist=fits_list, baseline_index=-1, cta_north=True, ls='--')"
   ]
  },
  {
   "cell_type": "code",
   "execution_count": null,
   "id": "e3c5a94b-34c8-45df-8cb1-7d1bbf537bd1",
   "metadata": {},
   "outputs": [],
   "source": [
    "# As a function of min_samples_split\n",
    "# max_depth=30\n",
    "fits_list = [std_irf_file]\n",
    "fits_list = []\n",
    "fits_list.extend(glob('results/config_30_*/*.fits.gz'))\n",
    "axes=plot_comparison(filelist=fits_list, baseline_index=0, cta_north=False, ls='--')\n",
    "ax=axes.ravel()[2].set_ylim(0, 0.4)"
   ]
  },
  {
   "cell_type": "code",
   "execution_count": null,
   "id": "baa82392-34fb-4f3a-8d99-5b811576ef18",
   "metadata": {},
   "outputs": [],
   "source": [
    "# As a function of min_samples_split\n",
    "# max_depth=50\n",
    "fits_list = glob('results/config_50_*/*.fits.gz')\n",
    "fits_list.append(std_irf_file)\n",
    "axes=plot_comparison(filelist=fits_list, baseline_index=-1, cta_north=False, ls='--')\n",
    "ax=axes.ravel()[2].set_ylim(0, 0.4)"
   ]
  },
  {
   "cell_type": "code",
   "execution_count": null,
   "id": "a220e0a6-4603-4188-92dd-5f1067d9ac4f",
   "metadata": {},
   "outputs": [],
   "source": [
    "fits_list = glob('results/config_30_*/*.fits.gz')\n",
    "fits_list.extend(glob('results/config_50_*/*.fits.gz'))\n",
    "fits_list.append(std_irf_file)\n",
    "axes=plot_comparison(filelist=fits_list, baseline_index=-1, cta_north=False, ls='--')\n",
    "ax=axes.ravel()[2].set_ylim(0, 0.4)"
   ]
  },
  {
   "cell_type": "code",
   "execution_count": null,
   "id": "8a7aa150-73c2-4c6d-9d8b-bb1c1bdaebee",
   "metadata": {},
   "outputs": [],
   "source": [
    "# As a function of min_samples_split\n",
    "# max_depth=50\n",
    "fits_list = [std_irf_file]\n",
    "fits_list.extend(glob('results/config_50_*/*.fits.gz'))\n",
    "fits_list.extend(glob('results/config_100_*/*.fits.gz'))\n",
    "axes=plot_comparison(filelist=fits_list, baseline_index=0, cta_north=False, ls='--')\n",
    "ax=axes.ravel()[2].set_ylim(0, 0.4)"
   ]
  },
  {
   "cell_type": "code",
   "execution_count": null,
   "id": "e92853bc-9026-4a9a-a52b-054bb68b655c",
   "metadata": {},
   "outputs": [],
   "source": [
    "fits_list = [std_irf_file]\n",
    "fits_list.extend(glob('results/config_*_5/*.fits.gz'))\n",
    "plot_comparison(filelist=fits_list, cta_north=True, ls='--');"
   ]
  },
  {
   "cell_type": "code",
   "execution_count": null,
   "id": "495ddb8e-0741-4d10-b02d-4632ed0a7519",
   "metadata": {},
   "outputs": [],
   "source": [
    "fits_list = [std_irf_file]\n",
    "fits_list.extend(glob('results/config_*_10/*.fits.gz'))\n",
    "plot_comparison(filelist=fits_list, cta_north=True, ls='--');"
   ]
  },
  {
   "cell_type": "code",
   "execution_count": null,
   "id": "5b31a839-2a87-4ed8-abfc-2b6bbe6e89dc",
   "metadata": {},
   "outputs": [],
   "source": []
  }
 ],
 "metadata": {
  "kernelspec": {
   "display_name": "lstMCpipe",
   "language": "python",
   "name": "lstmcpipe"
  },
  "language_info": {
   "codemirror_mode": {
    "name": "ipython",
    "version": 3
   },
   "file_extension": ".py",
   "mimetype": "text/x-python",
   "name": "python",
   "nbconvert_exporter": "python",
   "pygments_lexer": "ipython3",
   "version": "3.7.12"
  }
 },
 "nbformat": 4,
 "nbformat_minor": 5
}
